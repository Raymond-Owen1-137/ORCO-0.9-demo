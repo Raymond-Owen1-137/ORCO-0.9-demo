{
  "nbformat": 4,
  "nbformat_minor": 0,
  "metadata": {
    "colab": {
      "provenance": [],
      "authorship_tag": "ABX9TyOzcY0m2kF4KV31UxZOmNtD",
      "include_colab_link": true
    },
    "kernelspec": {
      "name": "python3",
      "display_name": "Python 3"
    },
    "language_info": {
      "name": "python"
    }
  },
  "cells": [
    {
      "cell_type": "markdown",
      "metadata": {
        "id": "view-in-github",
        "colab_type": "text"
      },
      "source": [
        "<a href=\"https://colab.research.google.com/github/Raymond-Owen1-137/ORCO-0.9-demo/blob/main/colab-demo.ipynb\" target=\"_parent\"><img src=\"https://colab.research.google.com/assets/colab-badge.svg\" alt=\"Open In Colab\"/></a>"
      ]
    },
    {
      "cell_type": "code",
      "execution_count": null,
      "metadata": {
        "id": "Jil9iVYo_FG_"
      },
      "outputs": [],
      "source": [
        "# ORCO 0.9 Demo\n",
        "!pip install pandas numpy\n"
      ]
    },
    {
      "cell_type": "code",
      "source": [
        "# Upload required files\n",
        "from google.colab import files\n",
        "uploaded = files.upload()\n"
      ],
      "metadata": {
        "id": "lnrG52ux_JNm"
      },
      "execution_count": null,
      "outputs": []
    },
    {
      "cell_type": "code",
      "source": [
        "# Run the ORCO pipeline\n",
        "!python3 main.py\n"
      ],
      "metadata": {
        "id": "Tl7DMg7S_K6E"
      },
      "execution_count": null,
      "outputs": []
    }
  ]
}